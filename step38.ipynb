{
  "nbformat": 4,
  "nbformat_minor": 0,
  "metadata": {
    "colab": {
      "name": "step38.ipynb",
      "provenance": [],
      "authorship_tag": "ABX9TyMI4yEt1tPosHvBh1KY56Bt",
      "include_colab_link": true
    },
    "kernelspec": {
      "name": "python3",
      "display_name": "Python 3"
    },
    "language_info": {
      "name": "python"
    }
  },
  "cells": [
    {
      "cell_type": "markdown",
      "metadata": {
        "id": "view-in-github",
        "colab_type": "text"
      },
      "source": [
        "<a href=\"https://colab.research.google.com/github/yhblank/DeZero/blob/main/step38.ipynb\" target=\"_parent\"><img src=\"https://colab.research.google.com/assets/colab-badge.svg\" alt=\"Open In Colab\"/></a>"
      ]
    },
    {
      "cell_type": "code",
      "source": [
        "from google.colab import drive\n",
        "drive.mount('/content/drive')\n",
        "import os\n",
        "_colab_dir = \"./drive/MyDrive/Colab Notebooks\"\n",
        "os.chdir(_colab_dir)\n",
        "print(\"カレントワーキングディレクトリは[\" + os.getcwd() + \"]です\")"
      ],
      "metadata": {
        "colab": {
          "base_uri": "https://localhost:8080/"
        },
        "id": "GJ2XGsIM-a9P",
        "outputId": "1a991e3f-eec5-4e51-f659-519ae805e259"
      },
      "execution_count": 1,
      "outputs": [
        {
          "output_type": "stream",
          "name": "stdout",
          "text": [
            "Drive already mounted at /content/drive; to attempt to forcibly remount, call drive.mount(\"/content/drive\", force_remount=True).\n",
            "カレントワーキングディレクトリは[/content/drive/MyDrive/Colab Notebooks]です\n"
          ]
        }
      ]
    },
    {
      "cell_type": "code",
      "execution_count": 2,
      "metadata": {
        "id": "5mOG23Mo-H5s",
        "colab": {
          "base_uri": "https://localhost:8080/"
        },
        "outputId": "09a176e5-6737-4908-c3e1-a0129ac2cfe8"
      },
      "outputs": [
        {
          "output_type": "stream",
          "name": "stdout",
          "text": [
            "variable([[1 1 1]\n",
            "          [1 1 1]])\n"
          ]
        }
      ],
      "source": [
        "import numpy as np\n",
        "import dezero.functions as F\n",
        "from dezero import Variable\n",
        "\n",
        "x = Variable(np.array([[1, 2, 3], [4, 5, 6]]))\n",
        "y = F.reshape(x, (6,))\n",
        "y.backward(retain_grad=True)\n",
        "print(x.grad)"
      ]
    },
    {
      "cell_type": "code",
      "source": [
        "x = Variable(np.random.randn(1, 2, 3))\n",
        "y = x.reshape((2, 3))\n",
        "y = x.reshape(2, 3)"
      ],
      "metadata": {
        "id": "3nmTFQ89XXBO"
      },
      "execution_count": 3,
      "outputs": []
    },
    {
      "cell_type": "code",
      "source": [
        "x = Variable(np.array([[1, 2, 3], [4, 5, 6]]))\n",
        "y = F.transpose(x)\n",
        "y.backward()\n",
        "print(x.grad)\n",
        "\n",
        "x = Variable(np.random.rand(2, 3))\n",
        "y = x.transpose()\n",
        "y = x.T"
      ],
      "metadata": {
        "id": "0ljlZSK4XcsC",
        "colab": {
          "base_uri": "https://localhost:8080/"
        },
        "outputId": "f19c7f99-e3f4-4637-f77a-ce679ac21c9d"
      },
      "execution_count": 4,
      "outputs": [
        {
          "output_type": "stream",
          "name": "stdout",
          "text": [
            "variable([[1 1 1]\n",
            "          [1 1 1]])\n"
          ]
        }
      ]
    }
  ]
}