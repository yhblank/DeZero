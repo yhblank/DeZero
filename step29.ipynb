{
  "nbformat": 4,
  "nbformat_minor": 0,
  "metadata": {
    "colab": {
      "name": "step29.ipynb",
      "provenance": [],
      "authorship_tag": "ABX9TyOnWs35DWxv4nrjA0+bTrqi",
      "include_colab_link": true
    },
    "kernelspec": {
      "name": "python3",
      "display_name": "Python 3"
    },
    "language_info": {
      "name": "python"
    }
  },
  "cells": [
    {
      "cell_type": "markdown",
      "metadata": {
        "id": "view-in-github",
        "colab_type": "text"
      },
      "source": [
        "<a href=\"https://colab.research.google.com/github/yhblank/DeZero/blob/main/step29.ipynb\" target=\"_parent\"><img src=\"https://colab.research.google.com/assets/colab-badge.svg\" alt=\"Open In Colab\"/></a>"
      ]
    },
    {
      "cell_type": "code",
      "source": [
        "from google.colab import drive\n",
        "drive.mount('/content/drive')\n",
        "import os\n",
        "_colab_dir = \"./drive/MyDrive/Colab Notebooks\"\n",
        "os.chdir(_colab_dir)\n",
        "print(\"カレントワーキングディレクトリは[\" + os.getcwd() + \"]です\")"
      ],
      "metadata": {
        "colab": {
          "base_uri": "https://localhost:8080/"
        },
        "id": "GJ2XGsIM-a9P",
        "outputId": "c675c989-5d04-4378-db46-65ff24be0f06"
      },
      "execution_count": 1,
      "outputs": [
        {
          "output_type": "stream",
          "name": "stdout",
          "text": [
            "Mounted at /content/drive\n",
            "カレントワーキングディレクトリは[/content/drive/MyDrive/Colab Notebooks]です\n"
          ]
        }
      ]
    },
    {
      "cell_type": "code",
      "execution_count": 3,
      "metadata": {
        "id": "5mOG23Mo-H5s",
        "colab": {
          "base_uri": "https://localhost:8080/"
        },
        "outputId": "cac6ead1-9d74-4351-87f6-ced4d7d5dfcc"
      },
      "outputs": [
        {
          "output_type": "stream",
          "name": "stdout",
          "text": [
            "0 variable(2.0)\n",
            "1 variable(1.4545454545454546)\n",
            "2 variable(1.1510467893775467)\n",
            "3 variable(1.0253259289766978)\n",
            "4 variable(1.0009084519430513)\n",
            "5 variable(1.0000012353089454)\n",
            "6 variable(1.000000000002289)\n",
            "7 variable(1.0)\n",
            "8 variable(1.0)\n",
            "9 variable(1.0)\n"
          ]
        }
      ],
      "source": [
        "import numpy as np\n",
        "from dezero import Variable\n",
        "def f(x):\n",
        "  y = x ** 4 - 2 * x ** 2\n",
        "  return y\n",
        "\n",
        "def gx2(x):\n",
        "  return 12 * x ** 2 - 4\n",
        "\n",
        "x = Variable(np.array(2.0))\n",
        "iters = 10\n",
        "\n",
        "for i in range(iters):\n",
        "  print(i, x)\n",
        "  y = f(x)\n",
        "  x.cleargrad()\n",
        "  y.backward()\n",
        "  x.data -= x.grad/gx2(x.data)"
      ]
    }
  ]
}