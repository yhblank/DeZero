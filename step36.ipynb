{
  "nbformat": 4,
  "nbformat_minor": 0,
  "metadata": {
    "colab": {
      "name": "step36.ipynb",
      "provenance": [],
      "authorship_tag": "ABX9TyM4xTY1pUBGmdrpUH7ObSxo",
      "include_colab_link": true
    },
    "kernelspec": {
      "name": "python3",
      "display_name": "Python 3"
    },
    "language_info": {
      "name": "python"
    }
  },
  "cells": [
    {
      "cell_type": "markdown",
      "metadata": {
        "id": "view-in-github",
        "colab_type": "text"
      },
      "source": [
        "<a href=\"https://colab.research.google.com/github/yhblank/DeZero/blob/main/step36.ipynb\" target=\"_parent\"><img src=\"https://colab.research.google.com/assets/colab-badge.svg\" alt=\"Open In Colab\"/></a>"
      ]
    },
    {
      "cell_type": "code",
      "source": [
        "from google.colab import drive\n",
        "drive.mount('/content/drive')\n",
        "import os\n",
        "_colab_dir = \"./drive/MyDrive/Colab Notebooks\"\n",
        "os.chdir(_colab_dir)\n",
        "print(\"カレントワーキングディレクトリは[\" + os.getcwd() + \"]です\")"
      ],
      "metadata": {
        "colab": {
          "base_uri": "https://localhost:8080/"
        },
        "id": "GJ2XGsIM-a9P",
        "outputId": "bcbcdb98-d68e-460f-ae5d-18b9eef39746"
      },
      "execution_count": 1,
      "outputs": [
        {
          "output_type": "stream",
          "name": "stdout",
          "text": [
            "Mounted at /content/drive\n",
            "カレントワーキングディレクトリは[/content/drive/MyDrive/Colab Notebooks]です\n"
          ]
        }
      ]
    },
    {
      "cell_type": "code",
      "execution_count": 2,
      "metadata": {
        "id": "5mOG23Mo-H5s",
        "colab": {
          "base_uri": "https://localhost:8080/"
        },
        "outputId": "0327b1a3-0ed5-43c1-d3c7-81ce477c4895"
      },
      "outputs": [
        {
          "output_type": "stream",
          "name": "stdout",
          "text": [
            "variable(100.0)\n"
          ]
        }
      ],
      "source": [
        "import numpy as np\n",
        "from dezero import Variable\n",
        "x = Variable(np.array(2.0))\n",
        "y = x ** 2\n",
        "y.backward(create_graph=True)\n",
        "gx = x.grad\n",
        "x.cleargrad()\n",
        "z = gx ** 3 + y\n",
        "z.backward()\n",
        "print(x.grad)"
      ]
    }
  ]
}