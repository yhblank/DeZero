{
  "nbformat": 4,
  "nbformat_minor": 0,
  "metadata": {
    "colab": {
      "name": "step37.ipynb",
      "provenance": [],
      "authorship_tag": "ABX9TyPj69PUWT4VVFBB4ocpagl/",
      "include_colab_link": true
    },
    "kernelspec": {
      "name": "python3",
      "display_name": "Python 3"
    },
    "language_info": {
      "name": "python"
    }
  },
  "cells": [
    {
      "cell_type": "markdown",
      "metadata": {
        "id": "view-in-github",
        "colab_type": "text"
      },
      "source": [
        "<a href=\"https://colab.research.google.com/github/yhblank/DeZero/blob/main/step37.ipynb\" target=\"_parent\"><img src=\"https://colab.research.google.com/assets/colab-badge.svg\" alt=\"Open In Colab\"/></a>"
      ]
    },
    {
      "cell_type": "code",
      "source": [
        "from google.colab import drive\n",
        "drive.mount('/content/drive')\n",
        "import os\n",
        "_colab_dir = \"./drive/MyDrive/Colab Notebooks\"\n",
        "os.chdir(_colab_dir)\n",
        "print(\"カレントワーキングディレクトリは[\" + os.getcwd() + \"]です\")"
      ],
      "metadata": {
        "colab": {
          "base_uri": "https://localhost:8080/"
        },
        "id": "GJ2XGsIM-a9P",
        "outputId": "b1f91308-f8e0-4689-a2e8-fd6559cbafcc"
      },
      "execution_count": 1,
      "outputs": [
        {
          "output_type": "stream",
          "name": "stdout",
          "text": [
            "Mounted at /content/drive\n",
            "カレントワーキングディレクトリは[/content/drive/MyDrive/Colab Notebooks]です\n"
          ]
        }
      ]
    },
    {
      "cell_type": "code",
      "execution_count": 5,
      "metadata": {
        "id": "5mOG23Mo-H5s",
        "colab": {
          "base_uri": "https://localhost:8080/"
        },
        "outputId": "b2ed5b54-faf0-4980-ce53-c0854341e826"
      },
      "outputs": [
        {
          "output_type": "stream",
          "name": "stdout",
          "text": [
            "variable(0.8414709848078965)\n",
            "variable([[ 0.84147098  0.90929743  0.14112001]\n",
            "          [-0.7568025  -0.95892427 -0.2794155 ]])\n",
            "variable([[11 22 33]\n",
            "          [44 55 66]])\n"
          ]
        }
      ],
      "source": [
        "import numpy as np\n",
        "import dezero.functions as F\n",
        "from dezero import Variable\n",
        "x = Variable(np.array(1.0))\n",
        "y = F.sin(x)\n",
        "print(y)\n",
        "\n",
        "x = Variable(np.array([[1, 2, 3], [4, 5, 6]]))\n",
        "y = F.sin(x)\n",
        "print(y)\n",
        "\n",
        "x = Variable(np.array([[1, 2, 3], [4, 5, 6]]))\n",
        "c = Variable(np.array([[10, 20, 30], [40, 50, 60]]))\n",
        "y = x + c\n",
        "print(y)"
      ]
    }
  ]
}