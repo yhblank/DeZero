{
  "nbformat": 4,
  "nbformat_minor": 0,
  "metadata": {
    "colab": {
      "name": "step24.ipynb",
      "provenance": [],
      "authorship_tag": "ABX9TyP0UnQbCyKxpKW5WxuBsXTO",
      "include_colab_link": true
    },
    "kernelspec": {
      "name": "python3",
      "display_name": "Python 3"
    },
    "language_info": {
      "name": "python"
    }
  },
  "cells": [
    {
      "cell_type": "markdown",
      "metadata": {
        "id": "view-in-github",
        "colab_type": "text"
      },
      "source": [
        "<a href=\"https://colab.research.google.com/github/yhblank/DeZero/blob/main/step24.ipynb\" target=\"_parent\"><img src=\"https://colab.research.google.com/assets/colab-badge.svg\" alt=\"Open In Colab\"/></a>"
      ]
    },
    {
      "cell_type": "code",
      "source": [
        "from google.colab import drive\n",
        "drive.mount('/content/drive')\n",
        "import os\n",
        "_colab_dir = \"./drive/MyDrive/Colab Notebooks\"\n",
        "os.chdir(_colab_dir)\n",
        "print(\"カレントワーキングディレクトリは[\" + os.getcwd() + \"]です\")"
      ],
      "metadata": {
        "colab": {
          "base_uri": "https://localhost:8080/"
        },
        "id": "N47aOQuFzB0B",
        "outputId": "11c22431-16c6-4aa1-f20e-e0f98ac22671"
      },
      "execution_count": 1,
      "outputs": [
        {
          "output_type": "stream",
          "name": "stdout",
          "text": [
            "Mounted at /content/drive\n",
            "カレントワーキングディレクトリは[/content/drive/MyDrive/Colab Notebooks]です\n"
          ]
        }
      ]
    },
    {
      "cell_type": "code",
      "execution_count": 2,
      "metadata": {
        "colab": {
          "base_uri": "https://localhost:8080/"
        },
        "id": "fBwUUyytybWe",
        "outputId": "d1630936-9385-49a5-ef10-4d1d674d5ac6"
      },
      "outputs": [
        {
          "output_type": "stream",
          "name": "stdout",
          "text": [
            "variable(16.0)\n",
            "8.0\n",
            "2.0 2.0\n"
          ]
        }
      ],
      "source": [
        "import numpy as np\n",
        "from dezero import Variable\n",
        "\n",
        "x = Variable(np.array(1.0))\n",
        "y = (x + 3) ** 2\n",
        "y.backward()\n",
        "\n",
        "print(y)\n",
        "print(x.grad)\n",
        "\n",
        "def sphere(x, y):\n",
        "  z = x ** 2 + y ** 2\n",
        "  return z\n",
        "\n",
        "x = Variable(np.array(1.0))\n",
        "y = Variable(np.array(1.0))\n",
        "z = sphere(x, y)\n",
        "z.backward()\n",
        "print(x.grad, y.grad)"
      ]
    },
    {
      "cell_type": "code",
      "source": [
        "def matyas(x, y):\n",
        "  z = 0.26 * (x ** 2 + y ** 2) - 0.48 * x * y\n",
        "  return z\n",
        "x = Variable(np.array(1.0))\n",
        "y = Variable(np.array(1.0))\n",
        "z = matyas(x, y)\n",
        "z.backward()\n",
        "print(x.grad, y.grad)"
      ],
      "metadata": {
        "colab": {
          "base_uri": "https://localhost:8080/"
        },
        "id": "MH7lv57_AEsS",
        "outputId": "9ae7a577-4685-4adf-ffa5-fdd3b6ea13f2"
      },
      "execution_count": 3,
      "outputs": [
        {
          "output_type": "stream",
          "name": "stdout",
          "text": [
            "0.040000000000000036 0.040000000000000036\n"
          ]
        }
      ]
    },
    {
      "cell_type": "code",
      "source": [
        "def goldstein(x, y):\n",
        "  z = (1 + (x + y + 1)**2 * (19 - 14*x + 3*x**2 - 14*y + 6*x*y + 3*y**2)) * \\\n",
        "  (30 + (2*x - 3*y)**2 * (18 - 32*x + 12*x**2 + 48*y - 36*x*y + 27*y**2))\n",
        "  return z\n",
        "\n",
        "x = Variable(np.array(1.0))\n",
        "y = Variable(np.array(1.0))\n",
        "z = goldstein(x, y)\n",
        "z.backward()\n",
        "print(x.grad, y.grad)"
      ],
      "metadata": {
        "colab": {
          "base_uri": "https://localhost:8080/"
        },
        "id": "uGwz4q62ALxV",
        "outputId": "aa0d02a2-eb2c-4d44-beda-938d6aaf4982"
      },
      "execution_count": 4,
      "outputs": [
        {
          "output_type": "stream",
          "name": "stdout",
          "text": [
            "-5376.0 8064.0\n"
          ]
        }
      ]
    }
  ]
}