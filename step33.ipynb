{
  "nbformat": 4,
  "nbformat_minor": 0,
  "metadata": {
    "colab": {
      "name": "step33.ipynb",
      "provenance": [],
      "authorship_tag": "ABX9TyNhBN62WYdjf86BOwFnsydQ",
      "include_colab_link": true
    },
    "kernelspec": {
      "name": "python3",
      "display_name": "Python 3"
    },
    "language_info": {
      "name": "python"
    }
  },
  "cells": [
    {
      "cell_type": "markdown",
      "metadata": {
        "id": "view-in-github",
        "colab_type": "text"
      },
      "source": [
        "<a href=\"https://colab.research.google.com/github/yhblank/DeZero/blob/main/step33.ipynb\" target=\"_parent\"><img src=\"https://colab.research.google.com/assets/colab-badge.svg\" alt=\"Open In Colab\"/></a>"
      ]
    },
    {
      "cell_type": "code",
      "source": [
        "from google.colab import drive\n",
        "drive.mount('/content/drive')\n",
        "import os\n",
        "_colab_dir = \"./drive/MyDrive/Colab Notebooks\"\n",
        "os.chdir(_colab_dir)\n",
        "print(\"カレントワーキングディレクトリは[\" + os.getcwd() + \"]です\")"
      ],
      "metadata": {
        "colab": {
          "base_uri": "https://localhost:8080/"
        },
        "id": "GJ2XGsIM-a9P",
        "outputId": "6e719bff-833e-44cb-d219-a2a67ec43b44"
      },
      "execution_count": 1,
      "outputs": [
        {
          "output_type": "stream",
          "name": "stdout",
          "text": [
            "Drive already mounted at /content/drive; to attempt to forcibly remount, call drive.mount(\"/content/drive\", force_remount=True).\n",
            "カレントワーキングディレクトリは[/content/drive/MyDrive/Colab Notebooks]です\n"
          ]
        }
      ]
    },
    {
      "cell_type": "code",
      "execution_count": 3,
      "metadata": {
        "id": "5mOG23Mo-H5s",
        "colab": {
          "base_uri": "https://localhost:8080/"
        },
        "outputId": "3a06efc5-24a8-4c94-a515-272b945691b0"
      },
      "outputs": [
        {
          "output_type": "stream",
          "name": "stdout",
          "text": [
            "variable(24.0)\n",
            "variable(44.0)\n"
          ]
        }
      ],
      "source": [
        "import numpy as np\n",
        "from dezero import Variable\n",
        "def f(x):\n",
        "  y = x ** 4 - 2 * x ** 2\n",
        "  return y\n",
        "\n",
        "x = Variable(np.array(2.0))\n",
        "y = f(x)\n",
        "y.backward(create_graph=True)\n",
        "print(x.grad)\n",
        "\n",
        "gx = x.grad\n",
        "x.cleargrad()\n",
        "gx.backward()\n",
        "print(x.grad)"
      ]
    },
    {
      "cell_type": "code",
      "source": [
        "import numpy as np\n",
        "from dezero import Variable\n",
        "def f(x):\n",
        "  y = x ** 4 - 2 * x ** 2\n",
        "  return y\n",
        "x = Variable(np.array(2.0))\n",
        "iters = 10\n",
        "for i in range(iters):\n",
        "  print(i, x)\n",
        "  y = f(x)\n",
        "  x.cleargrad()\n",
        "  y.backward(create_graph=True)\n",
        "  gx = x.grad\n",
        "  x.cleargrad()\n",
        "  gx.backward()\n",
        "  gx2 = x.grad\n",
        "  x.data -= gx.data / gx2.data"
      ],
      "metadata": {
        "colab": {
          "base_uri": "https://localhost:8080/"
        },
        "id": "YtG5ZJHE23OJ",
        "outputId": "50ae5975-7196-487f-e24b-f2cf3813a138"
      },
      "execution_count": 4,
      "outputs": [
        {
          "output_type": "stream",
          "name": "stdout",
          "text": [
            "0 variable(2.0)\n",
            "1 variable(1.4545454545454546)\n",
            "2 variable(1.1510467893775467)\n",
            "3 variable(1.0253259289766978)\n",
            "4 variable(1.0009084519430513)\n",
            "5 variable(1.0000012353089454)\n",
            "6 variable(1.000000000002289)\n",
            "7 variable(1.0)\n",
            "8 variable(1.0)\n",
            "9 variable(1.0)\n"
          ]
        }
      ]
    }
  ]
}