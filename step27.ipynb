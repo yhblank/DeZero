{
  "nbformat": 4,
  "nbformat_minor": 0,
  "metadata": {
    "colab": {
      "name": "step27.ipynb",
      "provenance": [],
      "authorship_tag": "ABX9TyMRlY4qgQ7Yzy2AvPyVEvcJ",
      "include_colab_link": true
    },
    "kernelspec": {
      "name": "python3",
      "display_name": "Python 3"
    },
    "language_info": {
      "name": "python"
    }
  },
  "cells": [
    {
      "cell_type": "markdown",
      "metadata": {
        "id": "view-in-github",
        "colab_type": "text"
      },
      "source": [
        "<a href=\"https://colab.research.google.com/github/yhblank/DeZero/blob/main/step27.ipynb\" target=\"_parent\"><img src=\"https://colab.research.google.com/assets/colab-badge.svg\" alt=\"Open In Colab\"/></a>"
      ]
    },
    {
      "cell_type": "code",
      "source": [
        "from google.colab import drive\n",
        "drive.mount('/content/drive')\n",
        "import os\n",
        "_colab_dir = \"./drive/MyDrive/Colab Notebooks\"\n",
        "os.chdir(_colab_dir)\n",
        "print(\"カレントワーキングディレクトリは[\" + os.getcwd() + \"]です\")"
      ],
      "metadata": {
        "colab": {
          "base_uri": "https://localhost:8080/"
        },
        "id": "GJ2XGsIM-a9P",
        "outputId": "4cbf0bba-0fa3-44d0-83cc-309545de2b59"
      },
      "execution_count": 1,
      "outputs": [
        {
          "output_type": "stream",
          "name": "stdout",
          "text": [
            "Mounted at /content/drive\n",
            "カレントワーキングディレクトリは[/content/drive/MyDrive/Colab Notebooks]です\n"
          ]
        }
      ]
    },
    {
      "cell_type": "code",
      "execution_count": 3,
      "metadata": {
        "id": "5mOG23Mo-H5s"
      },
      "outputs": [],
      "source": [
        "import numpy as np\n",
        "from dezero import Function\n",
        "\n",
        "class Sin(Function):\n",
        "  def forward(self, x):\n",
        "    y = np.sin(x)\n",
        "    return y\n",
        "  def backward(self, gy):\n",
        "    x = self.inputs[0].data\n",
        "    gx = gy * np.cos(x)\n",
        "    return gx\n",
        "\n",
        "def sin(x):\n",
        "  return Sin()(x)"
      ]
    },
    {
      "cell_type": "code",
      "source": [
        "from dezero import Variable\n",
        "x = Variable(np.array(np.pi/4))\n",
        "y = sin(x)\n",
        "y.backward()\n",
        "print(y.data)\n",
        "print(x.grad)"
      ],
      "metadata": {
        "colab": {
          "base_uri": "https://localhost:8080/"
        },
        "id": "9xhuPXhnCmmd",
        "outputId": "5f4fb9fe-9200-4711-8b7b-c3a5ee31682c"
      },
      "execution_count": 4,
      "outputs": [
        {
          "output_type": "stream",
          "name": "stdout",
          "text": [
            "0.7071067811865475\n",
            "0.7071067811865476\n"
          ]
        }
      ]
    },
    {
      "cell_type": "code",
      "source": [
        "import math\n",
        "def my_sin(x, threshold=0.0001):\n",
        "  y = 0\n",
        "  for i in range(100000):\n",
        "    c = (-1) ** i / math.factorial(2 * i + 1)\n",
        "    t = c * x ** (2 * i + 1)\n",
        "    y = y + t\n",
        "    if abs(t.data) < threshold:\n",
        "      break\n",
        "  return y"
      ],
      "metadata": {
        "id": "yongjC2KC7lc"
      },
      "execution_count": 5,
      "outputs": []
    },
    {
      "cell_type": "code",
      "source": [
        "x = Variable(np.array(np.pi/4))\n",
        "y = my_sin(x)\n",
        "y.backward()\n",
        "print(y.data)\n",
        "print(x.grad)"
      ],
      "metadata": {
        "colab": {
          "base_uri": "https://localhost:8080/"
        },
        "id": "5pwttFW2DE6D",
        "outputId": "0299a182-a583-483c-fd9c-ebd589630bbb"
      },
      "execution_count": 6,
      "outputs": [
        {
          "output_type": "stream",
          "name": "stdout",
          "text": [
            "0.7071064695751781\n",
            "0.7071032148228457\n"
          ]
        }
      ]
    },
    {
      "cell_type": "code",
      "source": [
        "from dezero.utils import plot_dot_graph\n",
        "x.name = 'x'\n",
        "y.name = 'y'\n",
        "plot_dot_graph(y, verbose=False, to_file='my_sin.png')"
      ],
      "metadata": {
        "id": "7WYHVy1oDUSh"
      },
      "execution_count": 8,
      "outputs": []
    }
  ]
}