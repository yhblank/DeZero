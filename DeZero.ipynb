{
  "nbformat": 4,
  "nbformat_minor": 0,
  "metadata": {
    "colab": {
      "name": "DeZero.ipynb",
      "provenance": [],
      "authorship_tag": "ABX9TyOjcaEImUtn6si3ZG/1/mG0",
      "include_colab_link": true
    },
    "kernelspec": {
      "name": "python3",
      "display_name": "Python 3"
    },
    "language_info": {
      "name": "python"
    }
  },
  "cells": [
    {
      "cell_type": "markdown",
      "metadata": {
        "id": "view-in-github",
        "colab_type": "text"
      },
      "source": [
        "<a href=\"https://colab.research.google.com/github/yhblank/DeZero/blob/main/DeZero.ipynb\" target=\"_parent\"><img src=\"https://colab.research.google.com/assets/colab-badge.svg\" alt=\"Open In Colab\"/></a>"
      ]
    },
    {
      "cell_type": "code",
      "execution_count": 9,
      "metadata": {
        "id": "n5bUec9bIrc1"
      },
      "outputs": [],
      "source": [
        "import numpy as np\n",
        "\n",
        "class Variable:\n",
        "    def __init__(self, data):\n",
        "        if data is not None:\n",
        "            if not isinstance(data, np.ndarray):\n",
        "                raise TypeError('{} is not supported'.format(type(data)))\n",
        "        self.data = data\n",
        "        self.grad = None\n",
        "        self.creator = None\n",
        "    def set_creator(self, func):\n",
        "        self.creator = func\n",
        "    def cleargrad(self):\n",
        "      self.grad = None\n",
        "    def backward(self):\n",
        "        if self.grad is None:\n",
        "            self.grad = np.ones_like(self.data)\n",
        "        funcs = [self.creator]\n",
        "        while funcs:\n",
        "            f = funcs.pop()\n",
        "            gys = [output.grad for output in f.outputs]\n",
        "            gxs = f.backward(*gys)\n",
        "            if not isinstance(gxs, tuple):\n",
        "              gxs = (gxs,)\n",
        "            for x, gx in zip(f.inputs, gxs):\n",
        "              if x.grad is None:\n",
        "                x.grad = gx\n",
        "              else:\n",
        "                x.grad = x.grad + gx\n",
        "              if x.creator is not None:\n",
        "                funcs.append(x.creator)\n",
        "        \n",
        "class Function:\n",
        "    def __call__(self, *inputs):\n",
        "        xs = [x.data for x in inputs]\n",
        "        ys = self.forward(*xs)\n",
        "        if not isinstance(ys, tuple):\n",
        "            ys = (ys,)\n",
        "        outputs = [Variable(as_array(y)) for y in ys]\n",
        "        for output in outputs:\n",
        "            output.set_creator(self)\n",
        "        self.inputs = inputs\n",
        "        self.outputs = outputs\n",
        "        return outputs if len(outputs) > 1 else outputs[0]\n",
        "    def forward(self, xs):\n",
        "        raise NotImplementedError()\n",
        "    def backward(self, gys):\n",
        "        raise NotImplementedError()\n",
        "        \n",
        "class Square(Function):\n",
        "    def forward(self, x):\n",
        "        return x**2\n",
        "    def backward(self, gy):\n",
        "        x = self.inputs[0].data\n",
        "        gx = 2*x*gy\n",
        "        return gx\n",
        "    \n",
        "class Exp(Function):\n",
        "    def forward(self, x):\n",
        "        return np.exp(x)\n",
        "    def backward(self, gy):\n",
        "        x = self.input.data\n",
        "        gx = np.exp(x)*gy\n",
        "        return gx\n",
        "\n",
        "class Add(Function):\n",
        "    def forward(self, x0, x1):\n",
        "        y = x0 + x1\n",
        "        return y\n",
        "    def backward(self, gy):\n",
        "        return gy, gy\n",
        "    \n",
        "def square(x):\n",
        "    f = Square()\n",
        "    return f(x)\n",
        "\n",
        "def exp(x):\n",
        "    f = Exp()\n",
        "    return f(x)\n",
        "\n",
        "def add(x0, x1):\n",
        "    return Add()(x0, x1)\n",
        "\n",
        "def as_array(x):\n",
        "    if np.isscalar(x):\n",
        "        return np.array(x)\n",
        "    return x"
      ]
    },
    {
      "cell_type": "code",
      "source": [
        "# 1回目の計算\n",
        "x = Variable(np.array(3.0))\n",
        "y = add(x, x)\n",
        "y.backward()\n",
        "print(x.grad) # 2.0\n",
        "# 2回目の計算（同じxを使って、別の計算を行う）\n",
        "x.cleargrad()\n",
        "y = add(add(x, x), x)\n",
        "y.backward()\n",
        "print(x.grad) # 3.0"
      ],
      "metadata": {
        "colab": {
          "base_uri": "https://localhost:8080/"
        },
        "id": "s8ihQYzoI6m1",
        "outputId": "50894d22-d1db-41bf-a709-3c0b25828b6d"
      },
      "execution_count": 10,
      "outputs": [
        {
          "output_type": "stream",
          "name": "stdout",
          "text": [
            "2.0\n",
            "3.0\n"
          ]
        }
      ]
    }
  ]
}