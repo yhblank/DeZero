{
  "nbformat": 4,
  "nbformat_minor": 0,
  "metadata": {
    "colab": {
      "name": "step39.ipynb",
      "provenance": [],
      "authorship_tag": "ABX9TyPFk5curPWaO+oC+8PHNZ0K",
      "include_colab_link": true
    },
    "kernelspec": {
      "name": "python3",
      "display_name": "Python 3"
    },
    "language_info": {
      "name": "python"
    }
  },
  "cells": [
    {
      "cell_type": "markdown",
      "metadata": {
        "id": "view-in-github",
        "colab_type": "text"
      },
      "source": [
        "<a href=\"https://colab.research.google.com/github/yhblank/DeZero/blob/main/step39.ipynb\" target=\"_parent\"><img src=\"https://colab.research.google.com/assets/colab-badge.svg\" alt=\"Open In Colab\"/></a>"
      ]
    },
    {
      "cell_type": "code",
      "source": [
        "from google.colab import drive\n",
        "drive.mount('/content/drive')\n",
        "import os\n",
        "_colab_dir = \"./drive/MyDrive/Colab Notebooks\"\n",
        "os.chdir(_colab_dir)\n",
        "print(\"カレントワーキングディレクトリは[\" + os.getcwd() + \"]です\")"
      ],
      "metadata": {
        "colab": {
          "base_uri": "https://localhost:8080/"
        },
        "id": "GJ2XGsIM-a9P",
        "outputId": "d8e32235-829e-4afa-eece-02f182d8ec8b"
      },
      "execution_count": 1,
      "outputs": [
        {
          "output_type": "stream",
          "name": "stdout",
          "text": [
            "Drive already mounted at /content/drive; to attempt to forcibly remount, call drive.mount(\"/content/drive\", force_remount=True).\n",
            "カレントワーキングディレクトリは[/content/drive/MyDrive/Colab Notebooks]です\n"
          ]
        }
      ]
    },
    {
      "cell_type": "code",
      "execution_count": 2,
      "metadata": {
        "id": "5mOG23Mo-H5s",
        "colab": {
          "base_uri": "https://localhost:8080/"
        },
        "outputId": "0c9f3272-4bb5-44d0-bfa0-e51d0c5fc0f6"
      },
      "outputs": [
        {
          "output_type": "stream",
          "name": "stdout",
          "text": [
            "variable(21)\n",
            "variable([1 1 1 1 1 1])\n"
          ]
        }
      ],
      "source": [
        "import numpy as np\n",
        "from dezero import Variable\n",
        "import dezero.functions as F\n",
        "x = Variable(np.array([1, 2, 3, 4, 5, 6]))\n",
        "y = F.sum(x)\n",
        "y.backward()\n",
        "print(y)\n",
        "print(x.grad)"
      ]
    },
    {
      "cell_type": "code",
      "source": [
        "x = Variable(np.array([[1, 2, 3], [4, 5, 6]]))\n",
        "y = F.sum(x)\n",
        "y.backward()\n",
        "print(y)\n",
        "print(x.grad)"
      ],
      "metadata": {
        "id": "FaI3MXV-1NEn",
        "outputId": "607eeccc-9381-4892-b637-963a3edb2da3",
        "colab": {
          "base_uri": "https://localhost:8080/"
        }
      },
      "execution_count": 3,
      "outputs": [
        {
          "output_type": "stream",
          "name": "stdout",
          "text": [
            "variable(21)\n",
            "variable([[1 1 1]\n",
            "          [1 1 1]])\n"
          ]
        }
      ]
    },
    {
      "cell_type": "code",
      "source": [
        "x = Variable(np.array([[1, 2, 3], [4, 5, 6]]))\n",
        "y = F.sum(x, axis=0)\n",
        "y.backward()\n",
        "print(y)\n",
        "print(x.grad)\n",
        "x = Variable(np.random.randn(2, 3, 4, 5))\n",
        "y = x.sum(keepdims=True)\n",
        "print(y.shape)"
      ],
      "metadata": {
        "colab": {
          "base_uri": "https://localhost:8080/"
        },
        "id": "qyQkt1cu7qhE",
        "outputId": "524bef2b-3ec8-47b0-8aa5-7ffb8521fe9f"
      },
      "execution_count": 4,
      "outputs": [
        {
          "output_type": "stream",
          "name": "stdout",
          "text": [
            "variable([5 7 9])\n",
            "variable([[1 1 1]\n",
            "          [1 1 1]])\n",
            "(1, 1, 1, 1)\n"
          ]
        }
      ]
    }
  ]
}